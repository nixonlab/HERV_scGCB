{
 "cells": [
  {
   "cell_type": "code",
   "execution_count": null,
   "id": "cab664ec-6f84-4ca8-8099-de43b6d11578",
   "metadata": {
    "tags": []
   },
   "outputs": [],
   "source": [
    "import scanpy as sc\n",
    "import anndata\n",
    "from scipy import io\n",
    "from scipy.sparse import coo_matrix, csr_matrix\n",
    "import numpy as np\n",
    "import os\n",
    "import pandas as pd\n",
    "import matplotlib.pyplot as plt\n",
    "from mpl_toolkits.mplot3d import Axes3D\n",
    "\n",
    "from scipy import stats\n",
    "import seaborn as sns\n",
    "import matplotlib.pyplot as plt"
   ]
  },
  {
   "cell_type": "code",
   "execution_count": null,
   "id": "a80bd013-17a4-4884-9f37-c4c26015a9db",
   "metadata": {
    "tags": []
   },
   "outputs": [],
   "source": [
    "# load sparse matrix:\n",
    "count_csr = io.mmread(\"counts.mtx\").tocsr()\n",
    "count_csr"
   ]
  },
  {
   "cell_type": "code",
   "execution_count": null,
   "id": "080e9e38-19d6-4b44-aef7-ba5069958ad3",
   "metadata": {
    "tags": []
   },
   "outputs": [],
   "source": [
    "gene_meta = pd.read_csv(\"gene_names.csv\", header=None, names=['gene_name'])\\\n",
    "    .set_index('gene_name', drop=False)\n",
    "gene_meta"
   ]
  },
  {
   "cell_type": "code",
   "execution_count": null,
   "id": "111bff5d-8fc3-4fc3-b7e9-9528c25f4d3b",
   "metadata": {
    "tags": []
   },
   "outputs": [],
   "source": [
    "cell_meta = pd.read_csv(\"metadata_3D.csv\", index_col='barcode')\n",
    "cell_meta"
   ]
  },
  {
   "cell_type": "code",
   "execution_count": null,
   "id": "17087834-a656-4502-b0fa-b5865fb6a2a2",
   "metadata": {
    "tags": []
   },
   "outputs": [],
   "source": [
    "# create anndata object\n",
    "adata = anndata.AnnData(\n",
    "    X=count_csr.transpose(),\n",
    "    dtype=np.int64,\n",
    "    obs=cell_meta,\n",
    "    var=gene_meta\n",
    ")\n",
    "adata"
   ]
  },
  {
   "cell_type": "code",
   "execution_count": null,
   "id": "f4d0a090",
   "metadata": {
    "tags": []
   },
   "outputs": [],
   "source": [
    "# create anndata object\n",
    "adata_pre = adata.copy()"
   ]
  },
  {
   "cell_type": "code",
   "execution_count": null,
   "id": "b01afe81-9a0a-4d1b-aed8-be218e235872",
   "metadata": {
    "tags": []
   },
   "outputs": [],
   "source": [
    "# load dimensional reduction:\n",
    "pca = pd.read_csv(\"pca.csv\")\n",
    "pca.index = adata.obs.index\n",
    "pca"
   ]
  },
  {
   "cell_type": "code",
   "execution_count": null,
   "id": "1395b213",
   "metadata": {
    "tags": []
   },
   "outputs": [],
   "source": [
    "# make a copy\n",
    "pca_pre = pca.copy(deep=True)"
   ]
  },
  {
   "cell_type": "code",
   "execution_count": null,
   "id": "8a57b50c-1357-4053-8115-a0f49870ec55",
   "metadata": {
    "tags": []
   },
   "outputs": [],
   "source": [
    "# set pca and umap\n",
    "adata.obsm['X_pca'] = pca.to_numpy()\n",
    "adata.obsm['X_umap'] = np.vstack((adata.obs['UMAP_1'].to_numpy(), adata.obs['UMAP_2'].to_numpy(), adata.obs['UMAP_3'].to_numpy())).T"
   ]
  },
  {
   "cell_type": "code",
   "execution_count": null,
   "id": "9fcb1f3a-b25a-49b7-847c-d0ab18c958bb",
   "metadata": {
    "tags": []
   },
   "outputs": [],
   "source": [
    "# set pca and umap\n",
    "adata_pre.obsm['X_pca'] = pca.to_numpy()\n",
    "adata_pre.obsm['X_umap'] = np.vstack((adata.obs['UMAP_1'].to_numpy(), adata.obs['UMAP_2'].to_numpy(), adata.obs['UMAP_3'].to_numpy())).T"
   ]
  },
  {
   "cell_type": "code",
   "execution_count": null,
   "id": "778abd2c-79f0-459e-95d1-d6373d91a35a",
   "metadata": {
    "tags": []
   },
   "outputs": [],
   "source": [
    "# plot a UMAP colored by sampleID to test:\n",
    "sc.pl.umap(adata, color='sample', projection= '3d')"
   ]
  },
  {
   "cell_type": "code",
   "execution_count": null,
   "id": "63a9fe87",
   "metadata": {
    "tags": []
   },
   "outputs": [],
   "source": [
    "adata_pre.uns['labels_colors'] = ['#EE9A00', '#EEAEEE', '#FFA07A', '#EE0000', '#8B0000', '#B03060', '#9370DB', '#B22222', '#FF0000', '#CDCD00', '#FFD700', '#006400', '#2E8B57', '#228B22', '#00868B', '#A020F0', '#BA55D3', '#4876FF', '#FF69B4', '#483D8B', '#00FFFF', '#20B2AA', '#87CEFA', '#000000', '#8A2BE2', '#8B008B', '#ACACAC']"
   ]
  },
  {
   "cell_type": "code",
   "execution_count": null,
   "id": "fef39a48",
   "metadata": {
    "tags": []
   },
   "outputs": [],
   "source": [
    "# plot a UMAP colored by sampleID to test:\n",
    "sc.pl.umap(adata_pre, color=['labels'], frameon=False, save=True, projection= '3d')"
   ]
  },
  {
   "cell_type": "code",
   "execution_count": null,
   "id": "f70d4372-361f-4f83-a007-87075c0fce3f",
   "metadata": {
    "tags": []
   },
   "outputs": [],
   "source": [
    "# save dataset as anndata format\n",
    "adata.write('matthew_data_3D.h5ad')"
   ]
  },
  {
   "cell_type": "code",
   "execution_count": null,
   "id": "3197baff-cbec-48c7-bf12-f5e4b56c08fc",
   "metadata": {},
   "outputs": [],
   "source": [
    "# reload dataset\n",
    "# adata = sc.read_h5ad('matthew_data_3D.h5ad')"
   ]
  },
  {
   "cell_type": "markdown",
   "id": "5eb19c4f-70a3-42a2-a77e-5d0af32ff2c9",
   "metadata": {},
   "source": [
    "### Trying to figure out what is going on below. Are you trying to calculate correlation of \"ERV316A3-9q21.13a\" with all other genes?\n",
    "\n",
    "### Also pearsons correlation calculated using raw counts?\n",
    "\n"
   ]
  },
  {
   "cell_type": "code",
   "execution_count": null,
   "id": "67070317",
   "metadata": {
    "tags": []
   },
   "outputs": [],
   "source": [
    "adata.obs_names"
   ]
  },
  {
   "cell_type": "code",
   "execution_count": null,
   "id": "8aad1bf4",
   "metadata": {
    "tags": []
   },
   "outputs": [],
   "source": [
    "i1 = np.where(adata_pre.var_names == 'ERV316A3-9q21.13a')[0][0]\n",
    "i1\n",
    "np.where(adata_pre.var_names == 'ERV316A3-9q21.13a')"
   ]
  },
  {
   "cell_type": "code",
   "execution_count": null,
   "id": "640e21bd",
   "metadata": {
    "tags": []
   },
   "outputs": [],
   "source": [
    "i2 = np.where(adata_pre.var_names == 'ERV316A3-9q21.13a')[0][0]\n",
    "i2"
   ]
  },
  {
   "cell_type": "code",
   "execution_count": null,
   "id": "b20d4f26",
   "metadata": {
    "tags": []
   },
   "outputs": [],
   "source": [
    "data_pre = adata_pre.X.toarray()"
   ]
  },
  {
   "cell_type": "code",
   "execution_count": null,
   "id": "a8553838",
   "metadata": {
    "tags": []
   },
   "outputs": [],
   "source": [
    "data_pre"
   ]
  },
  {
   "cell_type": "code",
   "execution_count": null,
   "id": "9ac3c939",
   "metadata": {
    "tags": []
   },
   "outputs": [],
   "source": [
    "data_pre.shape"
   ]
  },
  {
   "cell_type": "code",
   "execution_count": null,
   "id": "50d8fd40",
   "metadata": {
    "tags": []
   },
   "outputs": [],
   "source": [
    "data_pre[:, i1]"
   ]
  },
  {
   "cell_type": "code",
   "execution_count": null,
   "id": "8bc7a8be",
   "metadata": {
    "tags": []
   },
   "outputs": [],
   "source": [
    "# from scipy import stats\n",
    "stats.pearsonr(data_pre[:, i1], data_pre[:, i2])"
   ]
  },
  {
   "cell_type": "code",
   "execution_count": null,
   "id": "768db735",
   "metadata": {
    "tags": []
   },
   "outputs": [],
   "source": [
    "out = []\n",
    "for gene in adata_pre.var_names:\n",
    "    i2 = np.where(adata_pre.var_names == gene)[0][0]\n",
    "    res = stats.pearsonr(data_pre[:,i1], data_pre[:,i2])\n",
    "    out.append([gene, res[0], res[1]])"
   ]
  },
  {
   "cell_type": "code",
   "execution_count": null,
   "id": "327e0c64",
   "metadata": {
    "tags": []
   },
   "outputs": [],
   "source": [
    "df = pd.DataFrame(out,columns = ['gene', 'r', 'p'])\n",
    "df"
   ]
  },
  {
   "cell_type": "code",
   "execution_count": null,
   "id": "432eee74",
   "metadata": {
    "tags": []
   },
   "outputs": [],
   "source": [
    "df_KCNMA1 = pd.DataFrame(out,columns = ['gene', 'r', 'p'])\n",
    "df_KCNMA1"
   ]
  },
  {
   "cell_type": "code",
   "execution_count": null,
   "id": "e4b3d0a1",
   "metadata": {
    "tags": []
   },
   "outputs": [],
   "source": [
    "df_BCL2A1 = pd.DataFrame(out,columns = ['gene', 'r', 'p'])\n",
    "df_BCL2A1"
   ]
  },
  {
   "cell_type": "code",
   "execution_count": null,
   "id": "e6b4944c",
   "metadata": {
    "tags": []
   },
   "outputs": [],
   "source": [
    "df_AICDA = pd.DataFrame(out,columns = ['gene', 'r', 'p'])\n",
    "df_AICDA"
   ]
  },
  {
   "cell_type": "code",
   "execution_count": null,
   "id": "79aa1273",
   "metadata": {
    "tags": []
   },
   "outputs": [],
   "source": [
    "df_PRDM1 = pd.DataFrame(out,columns = ['gene', 'r', 'p'])\n",
    "df_PRDM1"
   ]
  },
  {
   "cell_type": "code",
   "execution_count": null,
   "id": "059042f4",
   "metadata": {
    "tags": []
   },
   "outputs": [],
   "source": [
    "df_CCR6 = pd.DataFrame(out,columns = ['gene', 'r', 'p'])\n",
    "df_CCR6"
   ]
  },
  {
   "cell_type": "code",
   "execution_count": null,
   "id": "c882d3e6",
   "metadata": {
    "tags": []
   },
   "outputs": [],
   "source": [
    "df_HQ7Q33 = pd.DataFrame(out,columns = ['gene', 'r', 'p'])\n",
    "df_HQ7Q33"
   ]
  },
  {
   "cell_type": "code",
   "execution_count": null,
   "id": "69a57293",
   "metadata": {
    "tags": []
   },
   "outputs": [],
   "source": [
    "df_ERV316A3 = pd.DataFrame(out,columns = ['gene', 'r', 'p'])\n",
    "df_ERV316A3"
   ]
  },
  {
   "cell_type": "code",
   "execution_count": null,
   "id": "ebb5322f",
   "metadata": {
    "tags": []
   },
   "outputs": [],
   "source": [
    "df['bon'] = df.p * len(df)\n",
    "df['-log10_p'] = -np.log10(df.p)\n",
    "df['-log10_bon'] = -np.log10(df.bon+(1e-300))\n",
    "df['-log1_bon'] = -np.log1p(df.bon)\n",
    "\n",
    "df"
   ]
  },
  {
   "cell_type": "code",
   "execution_count": null,
   "id": "a3451c61",
   "metadata": {
    "tags": []
   },
   "outputs": [],
   "source": [
    "df_KCNMA1['bon'] = df_KCNMA1.p * len(df_KCNMA1)\n",
    "df_KCNMA1['-log10_p'] = -np.log10(df_KCNMA1.p)\n",
    "df_KCNMA1['-log10_bon'] = -np.log10(df_KCNMA1.bon+(1e-300))\n",
    "df_KCNMA1['-log1_bon'] = -np.log1p(df_KCNMA1.bon)\n",
    "\n",
    "df_KCNMA1"
   ]
  },
  {
   "cell_type": "code",
   "execution_count": null,
   "id": "5d33a4d5",
   "metadata": {
    "tags": []
   },
   "outputs": [],
   "source": [
    "df_BCL2A1['bon'] = df_BCL2A1.p * len(df_BCL2A1)\n",
    "df_BCL2A1['-log10_p'] = -np.log10(df_BCL2A1.p)\n",
    "df_BCL2A1['-log10_bon'] = -np.log10(df_BCL2A1.bon+(1e-300))\n",
    "df_BCL2A1['-log1_bon'] = -np.log1p(df_BCL2A1.bon)\n",
    "\n",
    "df_BCL2A1"
   ]
  },
  {
   "cell_type": "code",
   "execution_count": null,
   "id": "2dba6e23",
   "metadata": {
    "tags": []
   },
   "outputs": [],
   "source": [
    "df_AICDA['bon'] = df_AICDA.p * len(df_AICDA)\n",
    "df_AICDA['-log10_p'] = -np.log10(df_AICDA.p)\n",
    "df_AICDA['-log10_bon'] = -np.log10(df_AICDA.bon+(1e-300))\n",
    "df_AICDA['-log1_bon'] = -np.log1p(df_AICDA.bon)\n",
    "\n",
    "df_AICDA"
   ]
  },
  {
   "cell_type": "code",
   "execution_count": null,
   "id": "3bd8066f",
   "metadata": {
    "tags": []
   },
   "outputs": [],
   "source": [
    "df_PRDM1['bon'] = df_PRDM1.p * len(df_PRDM1)\n",
    "df_PRDM1['-log10_p'] = -np.log10(df_PRDM1.p)\n",
    "df_PRDM1['-log10_bon'] = -np.log10(df_PRDM1.bon+(1e-300))\n",
    "df_PRDM1['-log1_bon'] = -np.log1p(df_PRDM1.bon)\n",
    "\n",
    "df_PRDM1"
   ]
  },
  {
   "cell_type": "code",
   "execution_count": null,
   "id": "e19e3a1f",
   "metadata": {
    "tags": []
   },
   "outputs": [],
   "source": [
    "df_CCR6['bon'] = df_CCR6.p * len(df_CCR6)\n",
    "df_CCR6['-log10_p'] = -np.log10(df_CCR6.p)\n",
    "df_CCR6['-log10_bon'] = -np.log10(df_CCR6.bon+(1e-300))\n",
    "df_CCR6['-log1_bon'] = -np.log1p(df_CCR6.bon)\n",
    "\n",
    "df_CCR6"
   ]
  },
  {
   "cell_type": "code",
   "execution_count": null,
   "id": "67e346da",
   "metadata": {
    "tags": []
   },
   "outputs": [],
   "source": [
    "df_HQ7Q33['bon'] = df_HQ7Q33.p * len(df_HQ7Q33)\n",
    "df_HQ7Q33['-log10_p'] = -np.log10(df_HQ7Q33.p)\n",
    "df_HQ7Q33['-log10_bon'] = -np.log10(df_HQ7Q33.bon+(1e-300))\n",
    "df_HQ7Q33['-log1_bon'] = -np.log1p(df_HQ7Q33.bon)\n",
    "\n",
    "df_HQ7Q33"
   ]
  },
  {
   "cell_type": "code",
   "execution_count": null,
   "id": "2ccb9fe9",
   "metadata": {
    "tags": []
   },
   "outputs": [],
   "source": [
    "df_ERV316A3['bon'] = df_ERV316A3.p * len(df_ERV316A3)\n",
    "df_ERV316A3['-log10_p'] = -np.log10(df_ERV316A3.p)\n",
    "df_ERV316A3['-log10_bon'] = -np.log10(df_ERV316A3.bon+(1e-300))\n",
    "df_ERV316A3['-log1_bon'] = -np.log1p(df_ERV316A3.bon)\n",
    "\n",
    "df_ERV316A3"
   ]
  },
  {
   "cell_type": "code",
   "execution_count": null,
   "id": "c469ff99",
   "metadata": {
    "tags": []
   },
   "outputs": [],
   "source": [
    "df = df[df.bon < 0.05].sort_values('bon').reset_index(drop = True)\n",
    "df"
   ]
  },
  {
   "cell_type": "code",
   "execution_count": null,
   "id": "6dea1824",
   "metadata": {
    "tags": []
   },
   "outputs": [],
   "source": [
    "df_KCNMA1 = df_KCNMA1[df_KCNMA1.bon < 0.05].sort_values('bon').reset_index(drop = True)\n",
    "df_KCNMA1"
   ]
  },
  {
   "cell_type": "code",
   "execution_count": null,
   "id": "aa9915b7",
   "metadata": {
    "tags": []
   },
   "outputs": [],
   "source": [
    "df_BCL2A1 = df_BCL2A1[df_BCL2A1.bon < 0.05].sort_values('bon').reset_index(drop = True)\n",
    "df_BCL2A1"
   ]
  },
  {
   "cell_type": "code",
   "execution_count": null,
   "id": "a0f8904b",
   "metadata": {
    "tags": []
   },
   "outputs": [],
   "source": [
    "df_AICDA = df_AICDA[df_AICDA.bon < 0.05].sort_values('bon').reset_index(drop = True)\n",
    "df_AICDA"
   ]
  },
  {
   "cell_type": "code",
   "execution_count": null,
   "id": "ac66b15e",
   "metadata": {
    "tags": []
   },
   "outputs": [],
   "source": [
    "df_PRDM1 = df_PRDM1[df_PRDM1.bon < 0.05].sort_values('bon').reset_index(drop = True)\n",
    "df_PRDM1"
   ]
  },
  {
   "cell_type": "code",
   "execution_count": null,
   "id": "cd0d6993",
   "metadata": {
    "tags": []
   },
   "outputs": [],
   "source": [
    "df_CCR6 = df_CCR6[df_CCR6.bon < 0.05].sort_values('bon').reset_index(drop = True)\n",
    "df_CCR6"
   ]
  },
  {
   "cell_type": "code",
   "execution_count": null,
   "id": "e86b82eb",
   "metadata": {
    "tags": []
   },
   "outputs": [],
   "source": [
    "df_HQ7Q33 = df_HQ7Q33[df_HQ7Q33.bon < 0.05].sort_values('bon').reset_index(drop = True)\n",
    "df_HQ7Q33"
   ]
  },
  {
   "cell_type": "code",
   "execution_count": null,
   "id": "5dee5c33",
   "metadata": {
    "tags": []
   },
   "outputs": [],
   "source": [
    "df_ERV316A3 = df_ERV316A3[df_ERV316A3.bon < 0.05].sort_values('bon').reset_index(drop = True)\n",
    "df_ERV316A3"
   ]
  },
  {
   "cell_type": "code",
   "execution_count": null,
   "id": "81cfbe46",
   "metadata": {
    "tags": []
   },
   "outputs": [],
   "source": [
    "# import seaborn as sns\n",
    "# import matplotlib.pyplot as plt\n",
    "\n",
    "plt.figure(figsize = (3,5))\n",
    "\n",
    "ax = sns.barplot(data = df[2:17], x = '-log10_p', y = 'gene', color = 'grey')\n",
    "\n",
    "plt.show()"
   ]
  },
  {
   "cell_type": "code",
   "execution_count": null,
   "id": "582c88e5",
   "metadata": {
    "tags": []
   },
   "outputs": [],
   "source": [
    "# import seaborn as sns\n",
    "# import matplotlib.pyplot as plt\n",
    "\n",
    "plt.figure(figsize = (3,5))\n",
    "\n",
    "ax = sns.barplot(data = df_KCNMA1[1:17], x = '-log10_bon', y = 'gene', color = 'grey')\n",
    "\n",
    "plt.show()"
   ]
  },
  {
   "cell_type": "code",
   "execution_count": null,
   "id": "a594294a",
   "metadata": {
    "tags": []
   },
   "outputs": [],
   "source": [
    "plt.figure(figsize = (3,5))\n",
    "\n",
    "ax = sns.barplot(data = df_BCL2A1[0:16], x = '-log10_bon', y = 'gene', color = 'grey')\n",
    "\n",
    "plt.show()"
   ]
  },
  {
   "cell_type": "code",
   "execution_count": null,
   "id": "f5456b56",
   "metadata": {
    "tags": []
   },
   "outputs": [],
   "source": [
    "\n",
    "plt.figure(figsize = (3,5))\n",
    "\n",
    "ax = sns.barplot(data = df_AICDA[0:16], x = '-log10_bon', y = 'gene', color = 'grey')\n",
    "\n",
    "plt.show()"
   ]
  },
  {
   "cell_type": "code",
   "execution_count": null,
   "id": "5e221a74",
   "metadata": {
    "tags": []
   },
   "outputs": [],
   "source": [
    "plt.figure(figsize = (3,5))\n",
    "\n",
    "ax = sns.barplot(data = df_PRDM1[0:16], x = '-log10_bon', y = 'gene', color = 'grey')\n",
    "\n",
    "plt.show()"
   ]
  },
  {
   "cell_type": "code",
   "execution_count": null,
   "id": "3a2c0752",
   "metadata": {
    "tags": []
   },
   "outputs": [],
   "source": [
    "plt.figure(figsize = (3,5))\n",
    "\n",
    "ax = sns.barplot(data = df_CCR6[1:17], x = '-log10_bon', y = 'gene', color = 'grey')\n",
    "\n",
    "plt.show()"
   ]
  },
  {
   "cell_type": "code",
   "execution_count": null,
   "id": "83a775ae",
   "metadata": {
    "tags": []
   },
   "outputs": [],
   "source": [
    "plt.figure(figsize = (3,5))\n",
    "\n",
    "ax = sns.barplot(data = df_HQ7Q33[1:17], x = '-log10_bon', y = 'gene', color = 'grey')\n",
    "\n",
    "plt.show()"
   ]
  },
  {
   "cell_type": "code",
   "execution_count": null,
   "id": "83ab9873",
   "metadata": {
    "tags": []
   },
   "outputs": [],
   "source": [
    "plt.figure(figsize = (3,5))\n",
    "\n",
    "ax = sns.barplot(data = (df_ERV316A3[0:16]), x = '-log10_bon', y = 'gene', color = 'grey')\n",
    "\n",
    "plt.show()"
   ]
  },
  {
   "cell_type": "code",
   "execution_count": null,
   "id": "fa0d372e",
   "metadata": {
    "tags": []
   },
   "outputs": [],
   "source": [
    "df_KCNMA1.to_csv('matthew_data/KCNMA1_Co_List.csv')"
   ]
  },
  {
   "cell_type": "code",
   "execution_count": null,
   "id": "2513dccb",
   "metadata": {
    "tags": []
   },
   "outputs": [],
   "source": [
    "df_BCL2A1.to_csv('matthew_data/BCL2A1_Co_List.csv')"
   ]
  },
  {
   "cell_type": "code",
   "execution_count": null,
   "id": "ca934608",
   "metadata": {
    "tags": []
   },
   "outputs": [],
   "source": [
    "df_AICDA.to_csv('matthew_data/AICDA_Co_List.csv')"
   ]
  },
  {
   "cell_type": "code",
   "execution_count": null,
   "id": "0b02ee48",
   "metadata": {
    "tags": []
   },
   "outputs": [],
   "source": [
    "df_PRDM1.to_csv('matthew_data/PRDM1_Co_List.csv')"
   ]
  },
  {
   "cell_type": "code",
   "execution_count": null,
   "id": "da517046",
   "metadata": {
    "tags": []
   },
   "outputs": [],
   "source": [
    "df_CCR6.to_csv('matthew_data/CCR6_Co_List.csv')"
   ]
  },
  {
   "cell_type": "code",
   "execution_count": null,
   "id": "4a873930",
   "metadata": {
    "tags": []
   },
   "outputs": [],
   "source": [
    "df_HQ7Q33.to_csv('matthew_data/HQ7Q33_Co_List.csv')"
   ]
  },
  {
   "cell_type": "code",
   "execution_count": null,
   "id": "6de8a7dc",
   "metadata": {
    "tags": []
   },
   "outputs": [],
   "source": [
    "df_ERV316A3.to_csv('matthew_data/ERV316A3_Co_List.csv')"
   ]
  },
  {
   "cell_type": "markdown",
   "id": "e10e1c7d-715a-4040-a54f-c4ef5c68cd77",
   "metadata": {
    "tags": []
   },
   "source": [
    "### Finished with co-expression stuff"
   ]
  },
  {
   "cell_type": "code",
   "execution_count": null,
   "id": "2f9ba590",
   "metadata": {
    "tags": []
   },
   "outputs": [],
   "source": [
    "adata_pre.obs"
   ]
  },
  {
   "cell_type": "code",
   "execution_count": null,
   "id": "6c7102e2",
   "metadata": {
    "tags": []
   },
   "outputs": [],
   "source": [
    "adata_pre.obs.groupby(['sample']).count()"
   ]
  },
  {
   "cell_type": "code",
   "execution_count": null,
   "id": "0b644ff1",
   "metadata": {
    "tags": []
   },
   "outputs": [],
   "source": [
    "num_tot_cells = adata_pre.obs.groupby(['sample']).count()\n",
    "num_tot_cells = dict(zip(num_tot_cells.index, num_tot_cells.seurat_clusters))\n",
    "num_tot_cells"
   ]
  },
  {
   "cell_type": "code",
   "execution_count": null,
   "id": "3b51ef90",
   "metadata": {
    "tags": []
   },
   "outputs": [],
   "source": [
    "cell_type_counts = adata_pre.obs.groupby(['sample', 'labels']).count()\n",
    "cell_type_counts = cell_type_counts[cell_type_counts.sum(axis = 1) > 0].reset_index()\n",
    "cell_type_counts"
   ]
  },
  {
   "cell_type": "code",
   "execution_count": null,
   "id": "868d521b",
   "metadata": {
    "tags": []
   },
   "outputs": [],
   "source": [
    "cell_type_counts['total_cells'] = cell_type_counts['sample'].map(num_tot_cells).astype(int)\n",
    "\n",
    "cell_type_counts['frequency'] = cell_type_counts['orig.ident'] / cell_type_counts['total_cells']\n",
    "\n",
    "cell_type_counts"
   ]
  },
  {
   "cell_type": "markdown",
   "id": "015c77d4-f5ec-483e-821a-96d55ee7e46a",
   "metadata": {},
   "source": [
    "### I don't think this makes sense as a boxlplot. There are 4 points for each celltype, boxplot is used to desscribe a distribution, and there are at least 5 statistics shown in each boxplot (min extreme, Q1, median, Q3, max extreme)"
   ]
  },
  {
   "cell_type": "code",
   "execution_count": null,
   "id": "cc62651c",
   "metadata": {
    "tags": []
   },
   "outputs": [],
   "source": [
    "\n",
    "plt.figure(figsize = (10,4))\n",
    "\n",
    "ax = sns.boxplot(data = cell_type_counts, x = 'labels', y = 'frequency')\n",
    "\n",
    "plt.xticks(rotation = 35, rotation_mode = 'anchor', ha = 'right')\n",
    "\n",
    "plt.show()"
   ]
  },
  {
   "cell_type": "code",
   "execution_count": null,
   "id": "63ac4bf8",
   "metadata": {
    "tags": []
   },
   "outputs": [],
   "source": [
    "TE_percent = adata_pre.obs['labels']\n"
   ]
  },
  {
   "cell_type": "code",
   "execution_count": null,
   "id": "99bf5729",
   "metadata": {
    "tags": []
   },
   "outputs": [],
   "source": [
    "TE_percent"
   ]
  },
  {
   "cell_type": "code",
   "execution_count": null,
   "id": "4c28e4f5",
   "metadata": {
    "tags": []
   },
   "outputs": [],
   "source": [
    "plt.figure(figsize = (10,4))\n",
    "\n",
    "ax = sns.boxplot(data = TE_percent, x = 'labels', y = 'percent.TE')\n",
    "\n",
    "plt.xticks(rotation = 35, rotation_mode = 'anchor', ha = 'right')\n",
    "\n",
    "plt.show()"
   ]
  },
  {
   "cell_type": "code",
   "execution_count": null,
   "id": "b2dd37f1",
   "metadata": {
    "tags": []
   },
   "outputs": [],
   "source": [
    "cell_type_counts.sample"
   ]
  },
  {
   "cell_type": "code",
   "execution_count": null,
   "id": "0c082cf8",
   "metadata": {
    "tags": []
   },
   "outputs": [],
   "source": [
    "sc.pl.umap(adata_pre, color=[\"PCNA\", \"TUBB\", \"ERV316A3-8q13.3a\", \"AICDA\", \"FOXP1\", \"IGHD\", \"IGHM\", \"IGHG2\", \"IGHA1\", \"MYC\", \"MIR155HG\", \"TFAP4\", \"BCL2A1\", \"FCRL5\", \"CAMK1\", \"KCNMA1\", \"ERV316A3-9q21.13a\", \"HARLEQUIN-10q23.1\", \"KLF2\", \"PRDM1\", \"HUERSP2-19q13.2\", \"CLEC2B\", \"CCR6\", \"PLAC8\", \"percent.TE\", \"percent.HERV\", \"labels\"], s=50, frameon=False, ncols=4, vmax='p99', components='1,3')"
   ]
  },
  {
   "cell_type": "code",
   "execution_count": null,
   "id": "96682f2c",
   "metadata": {
    "tags": []
   },
   "outputs": [],
   "source": [
    "sc.pl.umap(adata_pre, color=[\"AICDA\", \"BCL2A1\", \"KCNMA1\", \"ERV316A3-9q21.13a\", \"HARLEQUIN-10q23.1\", \"PRDM1\", \"HUERSP2-19q13.2\",\"CCR6\", \"PLAC8\"], s=50, frameon=False, ncols=3, vmax='p99', components='1,3')"
   ]
  },
  {
   "cell_type": "code",
   "execution_count": null,
   "id": "328dc794",
   "metadata": {
    "tags": []
   },
   "outputs": [],
   "source": [
    "sc.pl.umap(adata_pre, color=[\"KCNMA1\", \"ERV316A3-9q21.13a\", \"HARLEQUIN-7q33a\"], s=50, frameon=False, ncols=1, vmax='p99', components='1,3')"
   ]
  },
  {
   "cell_type": "code",
   "execution_count": null,
   "id": "59dbd068",
   "metadata": {
    "scrolled": true,
    "tags": []
   },
   "outputs": [],
   "source": [
    "sc.pl.umap(adata_pre, color=[\"PCNA\", \"TUBB\", \"ERV316A3-8q13.3a\", \"AICDA\", \"FOXP1\", \"IGHD\", \"IGHM\", \"IGHG2\", \"IGHA1\", \"MYC\", \"MIR155HG\", \"TFAP4\", \"BCL2A1\", \"FCRL5\", \"CAMK1\", \"KCNMA1\", \"ERV316A3-9q21.13a\", \"HARLEQUIN-10q23.1\", \"KLF2\", \"PRDM1\", \"HUERSP2-19q13.2\", \"CLEC2B\", \"CCR6\", \"PLAC8\", \"percent.TE\", \"percent.HERV\", \"labels\"], s=50, frameon=False, ncols=4, vmax='p99')"
   ]
  },
  {
   "cell_type": "code",
   "execution_count": null,
   "id": "3ea8f1c4",
   "metadata": {},
   "outputs": [],
   "source": [
    "sc.pl.umap(adata_pre, color='labels', add_outline=True, legend_loc='on data',\n",
    "               legend_fontsize=12, legend_fontoutline=2,frameon=False,\n",
    "               title='Labels', palette =, components='1,3')"
   ]
  },
  {
   "cell_type": "code",
   "execution_count": null,
   "id": "6afd4f66-1e22-46e6-a66f-b2c551dd18e6",
   "metadata": {
    "tags": []
   },
   "outputs": [],
   "source": [
    "adata"
   ]
  },
  {
   "cell_type": "code",
   "execution_count": null,
   "id": "a6c62d34-e36a-49e2-979e-4af67ede11e6",
   "metadata": {
    "tags": []
   },
   "outputs": [],
   "source": [
    "import scvelo as scv\n",
    "import scanpy as sc\n",
    "# import cellrank as cr\n",
    "import numpy as np\n",
    "import pandas as pd\n",
    "import anndata as ad"
   ]
  },
  {
   "cell_type": "code",
   "execution_count": null,
   "id": "eecc9350-d7c0-49da-8603-f343470f2a6e",
   "metadata": {
    "tags": []
   },
   "outputs": [],
   "source": [
    "scv.settings.verbosity = 3\n",
    "scv.settings.set_figure_params('scvelo', facecolor='white', dpi=100, frameon=False)\n",
    "# cr.settings.verbosity = 2\n",
    "#adata = sc.read_h5ad('my_data.h5ad')"
   ]
  },
  {
   "cell_type": "code",
   "execution_count": null,
   "id": "c7c270ab-8ab8-4593-9018-5ec714689cc1",
   "metadata": {
    "tags": []
   },
   "outputs": [],
   "source": [
    "# load loom files for spliced/unspliced matrices for each sample:\n",
    "ldata1 = scv.read('SRR11827034.loom', cache=True)\n",
    "ldata2 = scv.read('SRR11827035.loom', cache=True)"
   ]
  },
  {
   "cell_type": "code",
   "execution_count": null,
   "id": "1cce18a8-3e4d-4c8c-af8d-e93186e0eb73",
   "metadata": {
    "tags": []
   },
   "outputs": [],
   "source": [
    "# rename barcodes in order to merge:\n",
    "barcodes = [bc.split(':')[1] for bc in ldata1.obs.index.tolist()]\n",
    "barcodes = [bc[0:len(bc)-1] + '_10' for bc in barcodes]\n",
    "ldata1.obs.index = barcodes\n",
    "ldata1.obs"
   ]
  },
  {
   "cell_type": "code",
   "execution_count": null,
   "id": "5859f6fe-76c9-4356-b8f0-e52925e2f1d1",
   "metadata": {
    "tags": []
   },
   "outputs": [],
   "source": [
    "barcodes = [bc.split(':')[1] for bc in ldata2.obs.index.tolist()]\n",
    "barcodes = [bc[0:len(bc)-1] + '_11' for bc in barcodes]\n",
    "ldata2.obs.index = barcodes\n",
    "ldata2.obs"
   ]
  },
  {
   "cell_type": "code",
   "execution_count": null,
   "id": "32fc2685-b067-434a-ab40-b555ef44987a",
   "metadata": {
    "tags": []
   },
   "outputs": [],
   "source": [
    "# make variable names unique\n",
    "ldata1.var_names_make_unique()\n",
    "ldata2.var_names_make_unique()"
   ]
  },
  {
   "cell_type": "code",
   "execution_count": null,
   "id": "76bfdc7c-7d8b-4e3f-91f7-2b8a66e76240",
   "metadata": {
    "tags": []
   },
   "outputs": [],
   "source": [
    "# concatenate the three loom\n",
    "ldata = ldata1.concatenate(ldata2)\n",
    "ldata"
   ]
  },
  {
   "cell_type": "code",
   "execution_count": null,
   "id": "de2bf0b2-d2e3-4726-9484-08f30dede2ed",
   "metadata": {
    "tags": []
   },
   "outputs": [],
   "source": [
    "ldata.obs"
   ]
  },
  {
   "cell_type": "code",
   "execution_count": null,
   "id": "be5e9276-49f6-4a49-9fb3-09593b5278f2",
   "metadata": {
    "tags": []
   },
   "outputs": [],
   "source": [
    "# merge matrices into the original adata object\n",
    "adata = scv.utils.merge(adata, ldata, id_length=16)"
   ]
  },
  {
   "cell_type": "code",
   "execution_count": null,
   "id": "dd39e363",
   "metadata": {
    "tags": []
   },
   "outputs": [],
   "source": [
    "# save dataset as anndata format\n",
    "adata.write('matthew_data/loom_data.h5ad')"
   ]
  },
  {
   "cell_type": "code",
   "execution_count": null,
   "id": "1bbc8cbf-922c-4580-8882-4542c232b8bf",
   "metadata": {
    "tags": []
   },
   "outputs": [],
   "source": [
    "# plot umap to check\n",
    "sc.pl.umap(adata, color='labels', frameon=False, legend_loc='on data', title='', components='1,3', save='_retro_ident.pdf')"
   ]
  },
  {
   "cell_type": "code",
   "execution_count": null,
   "id": "ba5d88eb",
   "metadata": {
    "tags": []
   },
   "outputs": [],
   "source": [
    "# plot umap to check\n",
    "sc.pl.umap(adata, color='labels', frameon=False, title='', components='1,3', save='_retro_ident.pdf')"
   ]
  },
  {
   "cell_type": "code",
   "execution_count": null,
   "id": "0f633a95-ac08-4555-b819-76df8b8d2e2c",
   "metadata": {
    "tags": []
   },
   "outputs": [],
   "source": [
    "scv.pl.proportions(adata, groupby='labels', fontsize=4)"
   ]
  },
  {
   "cell_type": "code",
   "execution_count": null,
   "id": "371e1928-1926-4482-a489-65abe000cd93",
   "metadata": {
    "tags": []
   },
   "outputs": [],
   "source": [
    "# pre-process\n",
    "scv.pp.filter_and_normalize(adata)\n",
    "scv.pp.moments(adata)"
   ]
  },
  {
   "cell_type": "code",
   "execution_count": null,
   "id": "b61aa38c-1125-42c7-802a-e2814f54ff0f",
   "metadata": {
    "tags": []
   },
   "outputs": [],
   "source": [
    "# compute velocity\n",
    "scv.tl.velocity(adata, mode='stochastic')\n",
    "scv.tl.velocity_graph(adata)"
   ]
  },
  {
   "cell_type": "code",
   "execution_count": null,
   "id": "334f72eb-7f04-4fe4-831f-89e1aed0afae",
   "metadata": {},
   "outputs": [],
   "source": [
    "scv.pl.velocity_embedding(adata, basis='umap', frameon=False, save='embedding.pdf', components='1,3')"
   ]
  },
  {
   "cell_type": "code",
   "execution_count": null,
   "id": "5882dc06-1cf6-4bb5-a58f-e8761d96a3c9",
   "metadata": {},
   "outputs": [],
   "source": [
    "scv.pl.velocity_embedding_grid(adata, basis='umap', color='labels', save='embedding_grid.pdf', title='', scale=0.25, components='1,3')"
   ]
  },
  {
   "cell_type": "code",
   "execution_count": null,
   "id": "a9d28584",
   "metadata": {},
   "outputs": [],
   "source": [
    "scv.pl.velocity_embedding_grid(adata, basis='umap', frameon=False, color='labels', save='embedding_grid.pdf', title='', scale=0.25, components='3,1')"
   ]
  },
  {
   "cell_type": "code",
   "execution_count": null,
   "id": "4e2a0feb",
   "metadata": {},
   "outputs": [],
   "source": [
    "scv.pl.velocity_embedding_grid(adata, basis='umap', color='labels', save='embedding_grid.pdf', title='', scale=0.25, components='2,1')"
   ]
  },
  {
   "cell_type": "code",
   "execution_count": null,
   "id": "5be7229e",
   "metadata": {},
   "outputs": [],
   "source": [
    "scv.pl.velocity_embedding_grid(adata, basis='umap', color='labels', save='embedding_grid.pdf', title='', scale=0.25, components='2,3')"
   ]
  },
  {
   "cell_type": "code",
   "execution_count": null,
   "id": "08b4b74b",
   "metadata": {},
   "outputs": [],
   "source": [
    "scv.pl.velocity_embedding_grid(adata, basis='umap', color='labels', save='embedding_grid.pdf', title='', scale=0.25, components='3,2')"
   ]
  },
  {
   "cell_type": "code",
   "execution_count": null,
   "id": "7b42aa3d",
   "metadata": {},
   "outputs": [],
   "source": [
    "scv.pl.velocity_embedding_grid(adata, basis='umap', color='labels', save='embedding_grid.pdf', title='', scale=0.25, components='-1,3')"
   ]
  },
  {
   "cell_type": "code",
   "execution_count": null,
   "id": "7b62fe0c",
   "metadata": {},
   "outputs": [],
   "source": [
    "scv.pl.velocity_embedding_grid(adata, basis='umap', color='labels', save='embedding_grid.pdf', title='', scale=0.25, components='1,2')"
   ]
  },
  {
   "cell_type": "code",
   "execution_count": null,
   "id": "b9336c8d",
   "metadata": {},
   "outputs": [],
   "source": [
    "scv.pl.velocity_embedding_grid(adata, basis='umap', color='labels', save='embedding_grid.pdf', title='', scale=0.25, components='2,1')"
   ]
  },
  {
   "cell_type": "code",
   "execution_count": null,
   "id": "bc4be82a-f3ce-4312-a02d-8dda2a54e03c",
   "metadata": {},
   "outputs": [],
   "source": [
    "scv.pl.velocity_embedding_stream(adata, basis='umap', color=['labels'], frameon=False, save='embedding_stream.pdf', legend_loc='right margin', title='', components='1,3')"
   ]
  },
  {
   "cell_type": "code",
   "execution_count": null,
   "id": "bb085847",
   "metadata": {},
   "outputs": [],
   "source": [
    "scv.pl.velocity_embedding_stream(adata, basis='umap', color=['labels'], frameon=False, save='embedding_stream.pdf', legend_loc='right margin', title='', components='1,3')"
   ]
  },
  {
   "cell_type": "code",
   "execution_count": null,
   "id": "30d09cd5",
   "metadata": {},
   "outputs": [],
   "source": [
    "umap = adata.obsm['X_umap']\n",
    "velocity = adata.obsm['velocity_umap']\n",
    "# color = adata.obs['global_time']\n",
    "color = scv.utils.interpret_colorkey(adata, c=\"JLM_Labels\")\n",
    "\n",
    "fig = plt.figure(dpi=400)\n",
    "ax = fig.add_subplot(111, projection='3d')\n",
    "ax.scatter(umap[:, 0], umap[:, 1], umap[:, 2], c=color, cmap='viridis')\n",
    "\n",
    "# prepare colors for the arrows\n",
    "c = scv.utils.interpret_colorkey(adata, c=\"JLM_Labels\")\n",
    "c = list(c) + [element for element in list(c) for _ in range(2)]\n",
    "\n",
    "# Plot the velocity projection\n",
    "ax.quiver(umap[:, 0], umap[:, 1], umap[:, 2], velocity[:, 0], velocity[:, 1], velocity[:, 2], color='k',\n",
    "          normalize=True, length=0.4, arrow_length_ratio=0.3, linewidth = 0.5)\n",
    "ax.set_title('phenotypic manifold in high dimensions')\n",
    "ax.view_init(None, 10)\n",
    "\n",
    "# turn off the axis ticks\n",
    "ax.set_xticklabels([])\n",
    "ax.set_yticklabels([])\n",
    "ax.set_zticklabels([])\n",
    "\n",
    "# ax.set_xlabel('20k dimensions')\n",
    "#plt.savefig(f\"{figdir}/high_dim_projection.pdf\")\n",
    "plt.show()"
   ]
  },
  {
   "cell_type": "code",
   "execution_count": null,
   "id": "20295f21",
   "metadata": {},
   "outputs": [],
   "source": [
    "# save dataset as anndata format\n",
    "adata.write('my_data_3D.h5ad')"
   ]
  },
  {
   "cell_type": "code",
   "execution_count": null,
   "id": "d7810606",
   "metadata": {},
   "outputs": [],
   "source": [
    "adata"
   ]
  },
  {
   "cell_type": "code",
   "execution_count": null,
   "id": "9697ff97-e4c3-4b2d-840f-891610be6b4d",
   "metadata": {},
   "outputs": [],
   "source": [
    "scv.pl.velocity(adata, var_names=['BCL2A1'], color='labels')"
   ]
  },
  {
   "cell_type": "code",
   "execution_count": null,
   "id": "e591f99c",
   "metadata": {},
   "outputs": [],
   "source": [
    "scv.pl.velocity(adata, var_names=['BCL2A1'], color='labels', components = '1,3')"
   ]
  },
  {
   "cell_type": "code",
   "execution_count": null,
   "id": "41960d3a",
   "metadata": {},
   "outputs": [],
   "source": [
    "scv.pl.velocity(adata, var_names=['AICDA'], color='labels')"
   ]
  },
  {
   "cell_type": "code",
   "execution_count": null,
   "id": "ce958376",
   "metadata": {},
   "outputs": [],
   "source": [
    "scv.pl.velocity(adata, var_names=['AICDA'], color='labels', components = '1,3')"
   ]
  },
  {
   "cell_type": "code",
   "execution_count": null,
   "id": "0373cc41",
   "metadata": {},
   "outputs": [],
   "source": [
    "scv.pl.velocity(adata, var_names=['AICDA'], color='labels', components = '1,3')"
   ]
  },
  {
   "cell_type": "code",
   "execution_count": null,
   "id": "f1999e23-267c-4745-9da0-e3c2d9c7782e",
   "metadata": {
    "scrolled": true
   },
   "outputs": [],
   "source": [
    "scv.pl.velocity(adata, var_names=['KCNMA1'], color='labels')"
   ]
  },
  {
   "cell_type": "code",
   "execution_count": null,
   "id": "088f136b",
   "metadata": {},
   "outputs": [],
   "source": [
    "scv.pl.velocity(adata, var_names=['KCNMA1'], color='labels')"
   ]
  },
  {
   "cell_type": "code",
   "execution_count": null,
   "id": "0b4d67a5",
   "metadata": {},
   "outputs": [],
   "source": [
    "scv.pl.velocity(adata, var_names=['KCNMA1'], color='labels', components = '1,3')"
   ]
  },
  {
   "cell_type": "code",
   "execution_count": null,
   "id": "8023fc9b",
   "metadata": {},
   "outputs": [],
   "source": [
    "scv.pl.velocity(adata, var_names=['KCNMA1'], color='labels', components = '1,3')"
   ]
  },
  {
   "cell_type": "code",
   "execution_count": null,
   "id": "a549e5ad-0ef2-4156-9ac4-565de389b994",
   "metadata": {},
   "outputs": [],
   "source": [
    "scv.pl.velocity(adata, var_names=['IGHA2'], color='labels')"
   ]
  },
  {
   "cell_type": "code",
   "execution_count": null,
   "id": "8028c236",
   "metadata": {},
   "outputs": [],
   "source": [
    "scv.pl.velocity(adata, var_names=['IGHD'], color='labels')"
   ]
  },
  {
   "cell_type": "code",
   "execution_count": null,
   "id": "e4330bf5",
   "metadata": {},
   "outputs": [],
   "source": [
    "scv.pl.velocity(adata, var_names=['IGHD'], color='labels')"
   ]
  },
  {
   "cell_type": "code",
   "execution_count": null,
   "id": "075d01ec",
   "metadata": {},
   "outputs": [],
   "source": [
    "scv.pl.velocity(adata, var_names=['IGHD'], color='labels', components = '1,3')"
   ]
  },
  {
   "cell_type": "code",
   "execution_count": null,
   "id": "d5615f47",
   "metadata": {},
   "outputs": [],
   "source": [
    "scv.pl.velocity(adata, var_names=['IGHD'], color='labels', components = '1,3')"
   ]
  },
  {
   "cell_type": "code",
   "execution_count": null,
   "id": "56af633f-f12a-4d04-a240-15ce307dd6e6",
   "metadata": {},
   "outputs": [],
   "source": [
    "scv.tl.rank_velocity_genes(adata, groupby='labels', min_corr=.3)"
   ]
  },
  {
   "cell_type": "code",
   "execution_count": null,
   "id": "fc8cc4f8-f572-4f06-917a-4f495eb25109",
   "metadata": {},
   "outputs": [],
   "source": [
    "df = scv.DataFrame(adata.uns['rank_velocity_genes']['names'])\n",
    "df.head()"
   ]
  },
  {
   "cell_type": "code",
   "execution_count": null,
   "id": "7024c773-c606-4322-bd1d-65cef251c546",
   "metadata": {},
   "outputs": [],
   "source": [
    "scv.tl.velocity_confidence(adata)\n",
    "keys = 'velocity_length', 'velocity_confidence'\n",
    "scv.pl.scatter(adata, c=keys, cmap='coolwarm', perc=[5, 95], components='1,3')"
   ]
  },
  {
   "cell_type": "code",
   "execution_count": null,
   "id": "12a3919e",
   "metadata": {},
   "outputs": [],
   "source": [
    "scv.tl.velocity_confidence(adata)\n",
    "keys = 'velocity_length', 'velocity_confidence'\n",
    "scv.pl.scatter(adata, c=keys, cmap='coolwarm', perc=[5, 95], components='1,3')"
   ]
  },
  {
   "cell_type": "code",
   "execution_count": null,
   "id": "5c590e29",
   "metadata": {},
   "outputs": [],
   "source": [
    "scv.tl.velocity_confidence(adata)\n",
    "keys = 'velocity_length', 'velocity_confidence'\n",
    "scv.pl.scatter(adata, c=keys, cmap='coolwarm', perc=[5, 95])"
   ]
  },
  {
   "cell_type": "code",
   "execution_count": null,
   "id": "8c0f9de4",
   "metadata": {},
   "outputs": [],
   "source": [
    "scv.tl.velocity_confidence(adata)\n",
    "keys = 'velocity_length', 'velocity_confidence'\n",
    "scv.pl.scatter(adata, c=keys, cmap='coolwarm', perc=[5, 95])"
   ]
  },
  {
   "cell_type": "code",
   "execution_count": null,
   "id": "6557c6db-7b01-41b0-88ee-96d234daa9e6",
   "metadata": {},
   "outputs": [],
   "source": [
    "scv.pl.velocity_graph(adata, threshold=.1, color='labels', components='1,3')"
   ]
  },
  {
   "cell_type": "code",
   "execution_count": null,
   "id": "d9500b44-2701-4161-89e2-0b790275d806",
   "metadata": {},
   "outputs": [],
   "source": [
    "x, y, z = scv.utils.get_cell_transitions(adata, basis='umap', starting_cell=0)\n",
    "ax = scv.pl.velocity_graph(adata, c='lightgrey', edge_width=.05, show=False)\n",
    "ax = scv.pl.scatter(adata, x=x, y=y, s=120, c='ascending', cmap='gnuplot', ax=ax, components='1,3')"
   ]
  },
  {
   "cell_type": "code",
   "execution_count": null,
   "id": "73a83ca9-6e72-49da-b026-7a99c9c144f5",
   "metadata": {},
   "outputs": [],
   "source": [
    "scv.tl.velocity_pseudotime(adata)\n",
    "scv.pl.scatter(adata, color='velocity_pseudotime', cmap='gnuplot', components='1,3')"
   ]
  },
  {
   "cell_type": "code",
   "execution_count": null,
   "id": "229f1105",
   "metadata": {},
   "outputs": [],
   "source": [
    "scv.tl.velocity_pseudotime(adata)\n",
    "scv.pl.scatter(adata, color='velocity_pseudotime', cmap='gnuplot', components='1,3')"
   ]
  },
  {
   "cell_type": "code",
   "execution_count": null,
   "id": "b04128d0-196d-479a-9b7a-f4dfd5abfb11",
   "metadata": {},
   "outputs": [],
   "source": [
    "# this is needed due to a current bug - bugfix is coming soon.\n",
    "adata.uns['neighbors']['distances'] = adata.obsp['distances']\n",
    "adata.uns['neighbors']['connectivities'] = adata.obsp['connectivities']"
   ]
  },
  {
   "cell_type": "code",
   "execution_count": null,
   "id": "8b2a0f44-57f1-4ae6-825d-564cb202d477",
   "metadata": {},
   "outputs": [],
   "source": [
    "scv.tl.paga(adata, groups='labels')\n",
    "df = scv.get_df(adata, 'paga/transitions_confidence').T\n",
    "df.style.background_gradient(cmap='Blues').format('{:.2g}')"
   ]
  },
  {
   "cell_type": "code",
   "execution_count": null,
   "id": "6e2f3eb9-64c7-4840-94a6-7dded8b8a25a",
   "metadata": {},
   "outputs": [],
   "source": [
    "scv.pl.paga(adata, basis='umap', size=50, alpha=.1,\n",
    "            min_edge_width=2, node_size_scale=1.5, components = '1,3')"
   ]
  },
  {
   "cell_type": "code",
   "execution_count": null,
   "id": "d50a8b06",
   "metadata": {},
   "outputs": [],
   "source": [
    "umap = adata.obsm['X_umap']\n",
    "velocity = adata.obsm['velocity_umap']\n",
    "color = adata.obs['velocity_pseudotime']\n",
    "# color = scv.utils.interpret_colorkey(adata, c=\"velocity_pseudotime\")\n",
    "\n",
    "fig = plt.figure(dpi=400, figsize=(2,2))\n",
    "ax = fig.add_subplot(111, projection='3d')\n",
    "ax.scatter(umap[:, 0], umap[:, 1], umap[:, 2], c=color, cmap='viridis')\n",
    "\n",
    "# prepare colors for the arrows\n",
    "c = scv.utils.interpret_colorkey(adata, c=\"velocity_pseudotime\")\n",
    "c = list(c) + [element for element in list(c) for _ in range(2)]\n",
    "\n",
    "# Plot the velocity projection\n",
    "# ax.quiver(umap[:, 0], umap[:, 1], umap[:, 2], velocity[:, 0], velocity[:, 1], velocity[:, 2], color='k',\n",
    "#          normalize=True, length=0.4, arrow_length_ratio=0.3, linewidth = 0.5)\n",
    "ax.set_title('UMAP 3D Pseudotime')\n",
    "ax.view_init(None, 10)\n",
    "\n",
    "# turn off the axis ticks\n",
    "ax.set_xticklabels([])\n",
    "ax.set_yticklabels([])\n",
    "ax.set_zticklabels([])\n",
    "\n",
    "# ax.set_xlabel('20k dimensions')\n",
    "plt.savefig(\"high_dim_projection.pdf\")\n",
    "plt.show()"
   ]
  },
  {
   "cell_type": "code",
   "execution_count": null,
   "id": "86a48627-b471-430d-ad4e-f3d5e62ebbb6",
   "metadata": {},
   "outputs": [],
   "source": [
    "sc.pp.neighbors(adata, n_neighbors=15, use_rep='X_pca')"
   ]
  },
  {
   "cell_type": "code",
   "execution_count": null,
   "id": "02ae4203",
   "metadata": {},
   "outputs": [],
   "source": [
    "# save dataset as anndata format\n",
    "adata.write('my_data_3D.h5ad')"
   ]
  },
  {
   "cell_type": "code",
   "execution_count": null,
   "id": "c14226c8",
   "metadata": {},
   "outputs": [],
   "source": [
    "adata"
   ]
  },
  {
   "cell_type": "code",
   "execution_count": null,
   "id": "0e53c5e9",
   "metadata": {},
   "outputs": [],
   "source": [
    "spliced = adata.layers['spliced']\n",
    "unspliced = adata.layers['unspliced']\n",
    "clusters = adata.obs['labels']\n",
    "pcs = adata.obsm['X_pca']\n",
    "\n",
    "#choose colors based on clusters for plotting later\n",
    "#cell.cols = rainbow(8)[as.numeric(labels)]\n",
    "#names(cell.cols) = names(labels)"
   ]
  },
  {
   "cell_type": "code",
   "execution_count": null,
   "id": "f12f5fd4",
   "metadata": {},
   "outputs": [],
   "source": [
    "#cell distance in PC space\n",
    "cell.dist = as.dist(1-cor(t(pcs))) # cell distance in PC space\n",
    "\n",
    "vel = gene.relative.velocity.estimates(spliced,\n",
    "                                       unspliced,\n",
    "                                       kCells = 30,\n",
    "                                       cell.dist = cell.dist,\n",
    "                                       fit.quantile = 0.1)\n",
    "\n",
    "#(or use precomputed velocity object)\n",
    "# vel = pancreas$vel"
   ]
  },
  {
   "cell_type": "code",
   "execution_count": null,
   "id": "79e96f60",
   "metadata": {},
   "outputs": [],
   "source": [
    "import scanpy as sc\n",
    "from scipy import io"
   ]
  },
  {
   "cell_type": "code",
   "execution_count": null,
   "id": "565a05c6",
   "metadata": {},
   "outputs": [],
   "source": [
    "!mkdir matrix_files"
   ]
  },
  {
   "cell_type": "code",
   "execution_count": null,
   "id": "dab64413",
   "metadata": {},
   "outputs": [],
   "source": [
    "with open('matrix_files/barcodes.tsv', 'w') as f:\n",
    "    for item in adata.obs_names:\n",
    "        f.write(item + '\\n')"
   ]
  },
  {
   "cell_type": "code",
   "execution_count": null,
   "id": "514ce09c",
   "metadata": {},
   "outputs": [],
   "source": [
    "with open('matrix_files/features.tsv', 'w') as f:\n",
    "    for item in ['\\t'.join([x,x,'Gene Expression']) for x in adata.var_names]:\n",
    "        f.write(item + '\\n')"
   ]
  },
  {
   "cell_type": "code",
   "execution_count": null,
   "id": "66f0e7a7",
   "metadata": {},
   "outputs": [],
   "source": [
    "io.mmwrite('matrix_files/matrix', adata.X.T)"
   ]
  },
  {
   "cell_type": "code",
   "execution_count": null,
   "id": "55e4cb52",
   "metadata": {},
   "outputs": [],
   "source": [
    "!ls matrix_files/"
   ]
  },
  {
   "cell_type": "code",
   "execution_count": null,
   "id": "28f9fc31",
   "metadata": {},
   "outputs": [],
   "source": [
    "!gzip matrix_files/*"
   ]
  },
  {
   "cell_type": "code",
   "execution_count": null,
   "id": "be9bc18d",
   "metadata": {},
   "outputs": [],
   "source": [
    "adata.obs.to_csv('metadata.csv')"
   ]
  },
  {
   "cell_type": "code",
   "execution_count": null,
   "id": "625c7ac3",
   "metadata": {},
   "outputs": [],
   "source": []
  },
  {
   "cell_type": "code",
   "execution_count": null,
   "id": "e115856b-af93-4a15-a024-f9d3dd063553",
   "metadata": {},
   "outputs": [],
   "source": [
    "# pre-process\n",
    "scv.pp.filter_and_normalize(adata)\n",
    "scv.pp.moments(adata)"
   ]
  },
  {
   "cell_type": "code",
   "execution_count": null,
   "id": "823253b5-b2f0-4c2e-a673-f8eb74e17aa6",
   "metadata": {},
   "outputs": [],
   "source": [
    "scv.tl.recover_dynamics(adata)"
   ]
  },
  {
   "cell_type": "code",
   "execution_count": null,
   "id": "f0a5b6f7-1b90-4b9c-bef4-27397e17b875",
   "metadata": {},
   "outputs": [],
   "source": [
    "scv.pl.velocity_embedding_stream(adata, basis='umap', color=['labels'], save='embedding_stream_3D.pdf', title='', components = '1,3')"
   ]
  },
  {
   "cell_type": "code",
   "execution_count": null,
   "id": "80d14fa4-89e4-4241-a186-093b5cf9723c",
   "metadata": {},
   "outputs": [],
   "source": [
    "df = adata.var\n",
    "df = df[(df['fit_likelihood'] > .1) & df['velocity_genes'] == True]\n",
    "\n",
    "kwargs = dict(xscale='log', fontsize=16)\n",
    "with scv.GridSpec(ncols=3) as pl:\n",
    "    pl.hist(df['fit_alpha'], xlabel='transcription rate', **kwargs)\n",
    "    pl.hist(df['fit_beta'] * df['fit_scaling'], xlabel='splicing rate', xticks=[.1, .4, 1], **kwargs)\n",
    "    pl.hist(df['fit_gamma'], xlabel='degradation rate', xticks=[.1, .4, 1], **kwargs)\n",
    "\n",
    "scv.get_df(adata, 'fit*', dropna=True).head()"
   ]
  },
  {
   "cell_type": "code",
   "execution_count": null,
   "id": "849d50a9-e49f-42d1-b47a-c6d7bb54f000",
   "metadata": {},
   "outputs": [],
   "source": [
    "scv.tl.latent_time(adata)\n",
    "scv.pl.scatter(adata, color='latent_time', color_map='gnuplot', size=80, components='1,3')"
   ]
  },
  {
   "cell_type": "code",
   "execution_count": null,
   "id": "9735b9f8-d525-4595-90db-47edb34efb15",
   "metadata": {},
   "outputs": [],
   "source": [
    "scv.tl.latent_time(adata)\n",
    "scv.pl.scatter(adata, color='latent_time', size=80)"
   ]
  },
  {
   "cell_type": "code",
   "execution_count": null,
   "id": "ed5a8cf1",
   "metadata": {},
   "outputs": [],
   "source": [
    "scv.tl.latent_time(adata)\n",
    "scv.pl.scatter(adata, color='latent_time', size=80)"
   ]
  },
  {
   "cell_type": "code",
   "execution_count": null,
   "id": "6b706274",
   "metadata": {},
   "outputs": [],
   "source": [
    "scv.tl.latent_time(adata)\n",
    "scv.pl.scatter(adata, color='latent_time', color_map='gnuplot', size=80)"
   ]
  },
  {
   "cell_type": "code",
   "execution_count": null,
   "id": "3db89f8c",
   "metadata": {},
   "outputs": [],
   "source": [
    "scv.tl.latent_time(adata)\n",
    "scv.pl.scatter(adata, color='latent_time', color_map='gnuplot', size=80, components='1,3')"
   ]
  },
  {
   "cell_type": "code",
   "execution_count": null,
   "id": "74695479",
   "metadata": {},
   "outputs": [],
   "source": [
    "top_genes = adata.var['fit_likelihood'].sort_values(ascending=False).index[:300]\n",
    "\n",
    "chosen_genes = adata.var\n",
    "\n",
    "scv.pl.heatmap(adata, var_names=top_genes, sortby='latent_time', col_color='labels', n_convolve=100)"
   ]
  },
  {
   "cell_type": "code",
   "execution_count": null,
   "id": "f69a27b8",
   "metadata": {},
   "outputs": [],
   "source": [
    "top_genes"
   ]
  },
  {
   "cell_type": "code",
   "execution_count": null,
   "id": "6e4bc8c8-9682-42af-82e2-66330ac3c8e5",
   "metadata": {},
   "outputs": [],
   "source": [
    "top_genes = adata.var['fit_likelihood'].sort_values(ascending=False).index[:300]\n",
    "scv.pl.heatmap(adata, var_names=top_genes, sortby='latent_time', col_color='labels', n_convolve=100)"
   ]
  },
  {
   "cell_type": "code",
   "execution_count": null,
   "id": "167f84e5",
   "metadata": {},
   "outputs": [],
   "source": [
    "genes = adata.var['fit_likelihood'].sort_values(ascending=False).index[:300]\n",
    "scv.pl.heatmap(adata, var_names=top_genes, sortby='latent_time', col_color='labels', n_convolve=100)"
   ]
  },
  {
   "cell_type": "code",
   "execution_count": null,
   "id": "a3870f43-2cb6-402c-9bc4-03afa89a3539",
   "metadata": {},
   "outputs": [],
   "source": [
    "scv.pp.filter_and_normalize(adata, min_shared_counts=20, n_top_genes=2000)\n",
    "sc.tl.pca(adata)\n",
    "sc.pp.neighbors(adata, n_pcs=30, n_neighbors=30)\n",
    "scv.pp.moments(adata, n_pcs=None, n_neighbors=None)"
   ]
  },
  {
   "cell_type": "code",
   "execution_count": null,
   "id": "1e7103ca-659f-492c-ab7c-755ff1722738",
   "metadata": {},
   "outputs": [],
   "source": [
    "scv.tl.recover_dynamics(adata, n_jobs=8)"
   ]
  },
  {
   "cell_type": "code",
   "execution_count": null,
   "id": "8178d0e1-3226-478d-82e3-cc069a1939ec",
   "metadata": {},
   "outputs": [],
   "source": [
    "scv.tl.velocity(adata, mode=\"dynamical\")\n",
    "scv.tl.velocity_graph(adata)"
   ]
  },
  {
   "cell_type": "code",
   "execution_count": null,
   "id": "55c83c19-ca87-475e-ab4b-78302d5164d0",
   "metadata": {},
   "outputs": [],
   "source": [
    "scv.pl.velocity_embedding_stream(\n",
    "    adata, basis=\"umap\", legend_fontsize=12, title=\"\", smooth=0.8, min_mass=4, components='1,3'\n",
    ")"
   ]
  },
  {
   "cell_type": "code",
   "execution_count": null,
   "id": "abdbac13-d8c3-4185-a70b-20cd3a3942d4",
   "metadata": {},
   "outputs": [],
   "source": [
    "cr.tl.terminal_states(adata, cluster_key=\"labels\", weight_connectivities=0.2)"
   ]
  },
  {
   "cell_type": "code",
   "execution_count": null,
   "id": "1a30ef2a-d624-4b32-a2c5-c03b2fcfb8a0",
   "metadata": {},
   "outputs": [],
   "source": [
    "cr.tl.lineage_drivers(adata)"
   ]
  },
  {
   "cell_type": "code",
   "execution_count": null,
   "id": "6d34b3fd-5571-4197-92c9-5b9c41dcd6c2",
   "metadata": {},
   "outputs": [],
   "source": [
    "cr.pl.terminal_states(adata, components ='1,3')"
   ]
  },
  {
   "cell_type": "code",
   "execution_count": null,
   "id": "a32fb529",
   "metadata": {},
   "outputs": [],
   "source": [
    "cr.pl.terminal_states(adata, discrete=True, components ='1,3')"
   ]
  },
  {
   "cell_type": "code",
   "execution_count": null,
   "id": "74a16b0e",
   "metadata": {},
   "outputs": [],
   "source": [
    "cr.pl.initial_states(adata, components = '1,3')"
   ]
  },
  {
   "cell_type": "code",
   "execution_count": null,
   "id": "a7604d3c-aa5a-4a39-9160-d4e70b7e386d",
   "metadata": {},
   "outputs": [],
   "source": [
    "cr.tl.initial_states(adata, cluster_key=\"labels\")\n",
    "cr.pl.initial_states(adata, discrete=True, components = '1,3')"
   ]
  },
  {
   "cell_type": "code",
   "execution_count": null,
   "id": "23947ebf",
   "metadata": {},
   "outputs": [],
   "source": [
    "cr.pl.initial_states(adata, discrete=True, components = '1,3')"
   ]
  },
  {
   "cell_type": "code",
   "execution_count": null,
   "id": "eddd5130-9ea5-4c29-ba44-3e071be7fcae",
   "metadata": {},
   "outputs": [],
   "source": [
    "cr.tl.lineages(adata)\n",
    "cr.pl.lineages(adata, same_plot=False, components = '1,3')"
   ]
  },
  {
   "cell_type": "code",
   "execution_count": null,
   "id": "3b2f35ab-25dc-48a5-84ff-bb8d9c66fc63",
   "metadata": {},
   "outputs": [],
   "source": [
    "cr.pl.lineages(adata, same_plot=True, components = '1,3')"
   ]
  },
  {
   "cell_type": "code",
   "execution_count": null,
   "id": "a8897238-c706-42e4-85f7-5641b92314da",
   "metadata": {},
   "outputs": [],
   "source": [
    "scv.tl.recover_latent_time(\n",
    "    adata, root_key=\"initial_states_probs\", end_key=\"terminal_states_probs\"\n",
    ")"
   ]
  },
  {
   "cell_type": "code",
   "execution_count": null,
   "id": "2b36afee-5020-4167-86d6-21dca16befd9",
   "metadata": {},
   "outputs": [],
   "source": [
    "scv.tl.paga(\n",
    "    adata,\n",
    "    groups=\"labels\",\n",
    "    root_key=\"initial_states_probs\",\n",
    "    end_key=\"terminal_states_probs\",\n",
    "    use_time_prior=\"velocity_pseudotime\",\n",
    ")"
   ]
  },
  {
   "cell_type": "code",
   "execution_count": null,
   "id": "223a0c7b-6677-46c6-bffa-29927422dd15",
   "metadata": {},
   "outputs": [],
   "source": [
    "cr.pl.cluster_fates(\n",
    "    adata,\n",
    "    mode=\"paga_pie\",\n",
    "    cluster_key=\"labels\",\n",
    "    basis=\"umap\",\n",
    "    legend_kwargs={\"loc\": \"top right out\"},\n",
    "    legend_loc=\"top left out\",\n",
    "    node_size_scale=5,\n",
    "    edge_width_scale=1,\n",
    "    max_edge_width=4,\n",
    "    title=\"directed PAGA\",\n",
    "    components = '1,3'\n",
    ")"
   ]
  },
  {
   "cell_type": "code",
   "execution_count": null,
   "id": "2e3b22c4-382e-4872-834f-b4e322b6d9c1",
   "metadata": {},
   "outputs": [],
   "source": [
    "cr.tl.lineage_drivers(adata)"
   ]
  },
  {
   "cell_type": "code",
   "execution_count": null,
   "id": "d4a570cb-19ad-449e-8f39-fcfe1b5b3972",
   "metadata": {},
   "outputs": [],
   "source": [
    "cr.pl.lineage_drivers(adata, lineage=\"LZ (Act/TE-high)\", n_genes=4, components = '1,3')"
   ]
  },
  {
   "cell_type": "code",
   "execution_count": null,
   "id": "c90c6c83",
   "metadata": {},
   "outputs": [],
   "source": [
    "cr.pl.lineage_drivers(adata, lineage=\"LZ (Act/TE-high)\", n_genes=12, components = '1,3')"
   ]
  },
  {
   "cell_type": "code",
   "execution_count": null,
   "id": "0a85f6d2-f83c-40ee-a1fa-89c592247e72",
   "metadata": {},
   "outputs": [],
   "source": [
    "# compue DPT, starting from CellRank defined root cell\n",
    "root_idx = np.where(adata.obs[\"initial_states\"] == \"LZ (Post-Act Branch)\")[0][0]\n",
    "adata.uns[\"iroot\"] = root_idx\n",
    "sc.tl.dpt(adata)\n",
    "\n",
    "scv.pl.scatter(\n",
    "    adata,\n",
    "    color=[\"labels\", root_idx, \"latent_time\", \"dpt_pseudotime\"],\n",
    "    fontsize=16,\n",
    "    cmap=\"viridis\",\n",
    "    perc=[2, 98],\n",
    "    colorbar=True,\n",
    "    rescale_color=[0, 1],\n",
    "    title=[\"labels\", \"root cell\", \"latent time\", \"dpt pseudotime\"],\n",
    "    components = '1,3'\n",
    ")"
   ]
  },
  {
   "cell_type": "code",
   "execution_count": null,
   "id": "53f1ac4d-9984-47f5-a8da-dae9bfe57dda",
   "metadata": {},
   "outputs": [],
   "source": [
    "model = cr.ul.models.GAM(adata)\n",
    "cr.pl.gene_trends(\n",
    "    adata,\n",
    "    model=model,\n",
    "    data_key=\"X\",\n",
    "    genes=[\"AICDA\", \"BCL2A1\", \"PRDM1\"],\n",
    "    ncols=3,\n",
    "    time_key=\"latent_time\",\n",
    "    same_plot=True,\n",
    "    hide_cells=True,\n",
    "    figsize=(15, 4),\n",
    "    n_test_points=200,\n",
    "    components = '1,3'\n",
    ")"
   ]
  },
  {
   "cell_type": "code",
   "execution_count": null,
   "id": "951e2925-48e9-4d1a-9bec-aab20d407e82",
   "metadata": {},
   "outputs": [],
   "source": [
    "model = cr.ul.models.GAM(adata)\n",
    "cr.pl.gene_trends(\n",
    "    adata,\n",
    "    model=model,\n",
    "    data_key=\"X\",\n",
    "    genes=[\"HARLEQUIN-1p33\"],\n",
    "    ncols=3,\n",
    "    time_key=\"latent_time\",\n",
    "    same_plot=True,\n",
    "    hide_cells=True,\n",
    "    figsize=(15, 4),\n",
    "    n_test_points=200,\n",
    ")"
   ]
  },
  {
   "cell_type": "code",
   "execution_count": null,
   "id": "cd769572-497f-4cd7-807b-bcb3245e5e7a",
   "metadata": {},
   "outputs": [],
   "source": [
    "cr.pl.heatmap(\n",
    "    adata,\n",
    "    model,\n",
    "    genes=adata.varm['terminal_lineage_drivers'][\"LZ (Act/TE-high)_corr\"].sort_values(ascending=False).index[:100],\n",
    "    show_absorption_probabilities=True,\n",
    "    lineages=\"LZ (Act/TE-high)\",\n",
    "    n_jobs=1,\n",
    "    backend=\"loky\",\n",
    ")"
   ]
  },
  {
   "cell_type": "code",
   "execution_count": null,
   "id": "1d1b7341",
   "metadata": {},
   "outputs": [],
   "source": [
    "var_names = ['AICDA', 'BCL2A1', 'KCNMA1']\n",
    "scv.pl.scatter(adata, var_names, color='labels', frameon=False)\n",
    "scv.pl.scatter(adata, x='latent_time', y=var_names, color='labels', frameon=False)"
   ]
  },
  {
   "cell_type": "code",
   "execution_count": null,
   "id": "07c66dd5",
   "metadata": {},
   "outputs": [],
   "source": [
    "var_names = ['PRDM1', 'PLAC8', 'MS4A1']\n",
    "scv.pl.scatter(adata, var_names, color='labels', frameon=False)\n",
    "scv.pl.scatter(adata, x='latent_time', y=var_names, color='labels', frameon=False)"
   ]
  },
  {
   "cell_type": "code",
   "execution_count": null,
   "id": "101caccf",
   "metadata": {},
   "outputs": [],
   "source": [
    "var_names = ['IGHD', 'IGHM', 'IGHA2', 'IGHG3']\n",
    "scv.pl.scatter(adata, var_names, color='labels', frameon=False)\n",
    "scv.pl.scatter(adata, x='latent_time', y=var_names, color='labels', frameon=False)"
   ]
  },
  {
   "cell_type": "code",
   "execution_count": null,
   "id": "1cfbde3b",
   "metadata": {},
   "outputs": [],
   "source": [
    "import sys\n",
    "\n",
    "if \"google.colab\" in sys.modules:\n",
    "    !pip install -q git+https://github.com/theislab/cellrank@dev"
   ]
  },
  {
   "cell_type": "code",
   "execution_count": null,
   "id": "3bad910e",
   "metadata": {},
   "outputs": [],
   "source": [
    "import scvelo as scv\n",
    "import scanpy as sc\n",
    "import cellrank as cr\n",
    "import numpy as np\n",
    "\n",
    "scv.settings.verbosity = 3\n",
    "scv.settings.set_figure_params(\"scvelo\")\n",
    "cr.settings.verbosity = 2"
   ]
  },
  {
   "cell_type": "code",
   "execution_count": null,
   "id": "1cd5a48d",
   "metadata": {},
   "outputs": [],
   "source": [
    "scv.pl.scatter(adata_pre, c=\"labels\", legend_loc=\"right\")"
   ]
  },
  {
   "cell_type": "code",
   "execution_count": null,
   "id": "53bc83a0",
   "metadata": {},
   "outputs": [],
   "source": [
    "# filter, normalize total counts and log-transform\n",
    "sc.pp.filter_genes(adata_pre, min_cells=10)\n",
    "scv.pp.normalize_per_cell(adata_pre)\n",
    "sc.pp.log1p(adata_pre)\n",
    "\n",
    "# hvg annotation\n",
    "sc.pp.highly_variable_genes(adata_pre)\n",
    "print(f\"This detected {np.sum(adata_pre.var['highly_variable'])} highly variable genes. \")\n",
    "\n",
    "# use scVelo's `moments` function for imputation - note that hack we're using here:\n",
    "# we're copying our `.X` matrix into the layers because that's where `scv.tl.moments`\n",
    "# expects to find counts for imputation\n",
    "adata_pre.layers[\"spliced\"] = adata_pre.X\n",
    "adata_pre.layers[\"unspliced\"] = adata_pre.X\n",
    "scv.pp.moments(adata_pre, n_pcs=30, n_neighbors=30)"
   ]
  },
  {
   "cell_type": "code",
   "execution_count": null,
   "id": "fe7b03f9",
   "metadata": {},
   "outputs": [],
   "source": [
    "from cellrank.tl.kernels import CytoTRACEKernel\n",
    "\n",
    "ctk = CytoTRACEKernel(adata_pre)"
   ]
  },
  {
   "cell_type": "code",
   "execution_count": null,
   "id": "fb74e256",
   "metadata": {},
   "outputs": [],
   "source": [
    "scv.pl.scatter(\n",
    "    adata_pre,\n",
    "    c=[\"ct_pseudotime\", \"labels\"],\n",
    "    legend_loc=\"right\",\n",
    "    color_map=\"gnuplot2\",\n",
    ")"
   ]
  },
  {
   "cell_type": "code",
   "execution_count": null,
   "id": "879bd544",
   "metadata": {},
   "outputs": [],
   "source": [
    "scv.pl.scatter(\n",
    "    adata_pre,\n",
    "    c=[\"ct_pseudotime\", \"labels\"],\n",
    "    components = '1,3',\n",
    "    legend_loc=\"right\",\n",
    "    color_map=\"gnuplot2\",\n",
    ")"
   ]
  },
  {
   "cell_type": "code",
   "execution_count": null,
   "id": "7b087b61",
   "metadata": {},
   "outputs": [],
   "source": [
    "sc.pl.violin(adata_pre, keys=[\"ct_pseudotime\"], groupby=\"labels\", rotation=90)"
   ]
  }
 ],
 "metadata": {
  "kernelspec": {
   "display_name": "Python [conda env:scvelo]",
   "language": "python",
   "name": "conda-env-scvelo-py"
  },
  "language_info": {
   "codemirror_mode": {
    "name": "ipython",
    "version": 3
   },
   "file_extension": ".py",
   "mimetype": "text/x-python",
   "name": "python",
   "nbconvert_exporter": "python",
   "pygments_lexer": "ipython3",
   "version": "3.10.10"
  },
  "toc-showtags": false
 },
 "nbformat": 4,
 "nbformat_minor": 5
}
