{
 "cells": [
  {
   "cell_type": "markdown",
   "id": "56b9c923-f977-486d-9c93-f5d8086ce7e0",
   "metadata": {},
   "source": [
    "## Load data"
   ]
  },
  {
   "cell_type": "code",
   "execution_count": 1,
   "id": "a9e4d910-5481-4548-919b-cd2caabc968d",
   "metadata": {
    "tags": []
   },
   "outputs": [],
   "source": [
    "import numpy as np\n",
    "import pandas as pd\n",
    "import scanpy as sc\n",
    "\n",
    "import anndata\n",
    "import scipy"
   ]
  },
  {
   "cell_type": "code",
   "execution_count": 2,
   "id": "7534ee36-5021-4f6f-83b4-ee88d7252d83",
   "metadata": {
    "tags": []
   },
   "outputs": [
    {
     "data": {
      "text/plain": [
       "<88461x16497 sparse matrix of type '<class 'numpy.int64'>'\n",
       "\twith 43561130 stored elements in Compressed Sparse Row format>"
      ]
     },
     "execution_count": 2,
     "metadata": {},
     "output_type": "execute_result"
    }
   ],
   "source": [
    "# load sparse matrix:\n",
    "count_csr = scipy.io.mmread(\"counts.mtx\").tocsr()\n",
    "count_csr"
   ]
  },
  {
   "cell_type": "code",
   "execution_count": null,
   "id": "84b79175-38de-4aad-a3c4-4fec68289681",
   "metadata": {},
   "outputs": [],
   "source": [
    "# starpath = 'results/starsolo_algn/SAMN13191507/SAMN13191507_GDC38.Solo.out/Gene/filtered/matrix.mtx'\n",
    "# stellarpath = 'results/telescope_pseudobulk/SAMN13191507_F/SAMN13191507_F_pseudobulk-TE_counts.mtx'\n",
    "\n",
    "\n",
    "# # def mtx_to_adata(stellardir,stardir):\n",
    "#     te_mtx = glob('../results/telescope_pseudobulk/SAMN13191507_F/*-TE_counts.mtx')[0]\n",
    "#     te_bctsv = glob('../results/telescope_pseudobulk/SAMN13191507_F/*-barcodes.tsv')[0]\n",
    "#     te_bctsv = glob('../results/telescope_pseudobulk/SAMN13191507_F/*-features.tsv')[0]\n"
   ]
  },
  {
   "cell_type": "code",
   "execution_count": null,
   "id": "07d0c4c6-e3b7-4f19-9413-a26fe619b617",
   "metadata": {},
   "outputs": [],
   "source": [
    "gene_meta = pd.read_csv(\"gene_names.csv\", header=None, names=['gene_name'])\\\n",
    "    .set_index('gene_name', drop=False)\n",
    "gene_meta"
   ]
  },
  {
   "cell_type": "code",
   "execution_count": null,
   "id": "0ee58f7f-ec69-49c0-84dc-dc08d12c3e95",
   "metadata": {},
   "outputs": [],
   "source": [
    "cell_meta = pd.read_csv(\"metadata_3D_new.csv\", index_col='barcode')\n",
    "cell_meta"
   ]
  },
  {
   "cell_type": "code",
   "execution_count": null,
   "id": "dcc54c2e-d3ea-49ad-a00d-6a8e96138e38",
   "metadata": {},
   "outputs": [],
   "source": [
    "# create anndata object\n",
    "adata = anndata.AnnData(\n",
    "    X=count_csr.transpose(),\n",
    "    dtype=np.int64,\n",
    "    obs=cell_meta,\n",
    "    var=gene_meta\n",
    ")\n",
    "adata"
   ]
  },
  {
   "cell_type": "code",
   "execution_count": null,
   "id": "0f70a2dd-9a21-4804-ac94-7f5b477d3757",
   "metadata": {
    "tags": []
   },
   "outputs": [],
   "source": [
    "# load dimensional reduction:\n",
    "pca = pd.read_csv(\"pca.csv\")\n",
    "pca.index = adata.obs.index\n",
    "pca"
   ]
  },
  {
   "cell_type": "code",
   "execution_count": 15,
   "id": "dc617ebf-3481-4e11-9ce3-cd095dd1fb88",
   "metadata": {
    "tags": []
   },
   "outputs": [
    {
     "ename": "<class 'KeyError'>",
     "evalue": "'UMAP_3'",
     "output_type": "error",
     "traceback": [
      "\u001b[0;31m---------------------------------------------------------------------------\u001b[0m",
      "\u001b[0;31mKeyError\u001b[0m                                  Traceback (most recent call last)",
      "File \u001b[0;32m~/miniconda3/envs/scvelo/lib/python3.10/site-packages/pandas/core/indexes/base.py:3802\u001b[0m, in \u001b[0;36mIndex.get_loc\u001b[0;34m(self, key, method, tolerance)\u001b[0m\n\u001b[1;32m   3801\u001b[0m \u001b[38;5;28;01mtry\u001b[39;00m:\n\u001b[0;32m-> 3802\u001b[0m     \u001b[38;5;28;01mreturn\u001b[39;00m \u001b[38;5;28;43mself\u001b[39;49m\u001b[38;5;241;43m.\u001b[39;49m\u001b[43m_engine\u001b[49m\u001b[38;5;241;43m.\u001b[39;49m\u001b[43mget_loc\u001b[49m\u001b[43m(\u001b[49m\u001b[43mcasted_key\u001b[49m\u001b[43m)\u001b[49m\n\u001b[1;32m   3803\u001b[0m \u001b[38;5;28;01mexcept\u001b[39;00m \u001b[38;5;167;01mKeyError\u001b[39;00m \u001b[38;5;28;01mas\u001b[39;00m err:\n",
      "File \u001b[0;32m~/miniconda3/envs/scvelo/lib/python3.10/site-packages/pandas/_libs/index.pyx:138\u001b[0m, in \u001b[0;36mpandas._libs.index.IndexEngine.get_loc\u001b[0;34m()\u001b[0m\n",
      "File \u001b[0;32m~/miniconda3/envs/scvelo/lib/python3.10/site-packages/pandas/_libs/index.pyx:165\u001b[0m, in \u001b[0;36mpandas._libs.index.IndexEngine.get_loc\u001b[0;34m()\u001b[0m\n",
      "File \u001b[0;32mpandas/_libs/hashtable_class_helper.pxi:5745\u001b[0m, in \u001b[0;36mpandas._libs.hashtable.PyObjectHashTable.get_item\u001b[0;34m()\u001b[0m\n",
      "File \u001b[0;32mpandas/_libs/hashtable_class_helper.pxi:5753\u001b[0m, in \u001b[0;36mpandas._libs.hashtable.PyObjectHashTable.get_item\u001b[0;34m()\u001b[0m\n",
      "\u001b[0;31mKeyError\u001b[0m: 'UMAP_3'",
      "\nThe above exception was the direct cause of the following exception:\n",
      "\u001b[0;31mKeyError\u001b[0m                                  Traceback (most recent call last)",
      "Cell \u001b[0;32mIn[15], line 3\u001b[0m\n\u001b[1;32m      1\u001b[0m \u001b[38;5;66;03m# set pca and umap\u001b[39;00m\n\u001b[1;32m      2\u001b[0m adata\u001b[38;5;241m.\u001b[39mobsm[\u001b[38;5;124m'\u001b[39m\u001b[38;5;124mX_pca\u001b[39m\u001b[38;5;124m'\u001b[39m] \u001b[38;5;241m=\u001b[39m pca\u001b[38;5;241m.\u001b[39mto_numpy()\n\u001b[0;32m----> 3\u001b[0m adata\u001b[38;5;241m.\u001b[39mobsm[\u001b[38;5;124m'\u001b[39m\u001b[38;5;124mX_umap\u001b[39m\u001b[38;5;124m'\u001b[39m] \u001b[38;5;241m=\u001b[39m np\u001b[38;5;241m.\u001b[39mvstack((adata\u001b[38;5;241m.\u001b[39mobs[\u001b[38;5;124m'\u001b[39m\u001b[38;5;124mUMAP_1\u001b[39m\u001b[38;5;124m'\u001b[39m]\u001b[38;5;241m.\u001b[39mto_numpy(), adata\u001b[38;5;241m.\u001b[39mobs[\u001b[38;5;124m'\u001b[39m\u001b[38;5;124mUMAP_2\u001b[39m\u001b[38;5;124m'\u001b[39m]\u001b[38;5;241m.\u001b[39mto_numpy(), adata\u001b[38;5;241m.\u001b[39mobs[\u001b[38;5;124m'\u001b[39m\u001b[38;5;124mUMAP_3\u001b[39m\u001b[38;5;124m'\u001b[39m]\u001b[38;5;241m.\u001b[39mto_numpy()))\u001b[38;5;241m.\u001b[39mT\n",
      "File \u001b[0;32m~/miniconda3/envs/scvelo/lib/python3.10/site-packages/pandas/core/frame.py:3807\u001b[0m, in \u001b[0;36mDataFrame.__getitem__\u001b[0;34m(self, key)\u001b[0m\n\u001b[1;32m   3805\u001b[0m \u001b[38;5;28;01mif\u001b[39;00m \u001b[38;5;28mself\u001b[39m\u001b[38;5;241m.\u001b[39mcolumns\u001b[38;5;241m.\u001b[39mnlevels \u001b[38;5;241m>\u001b[39m \u001b[38;5;241m1\u001b[39m:\n\u001b[1;32m   3806\u001b[0m     \u001b[38;5;28;01mreturn\u001b[39;00m \u001b[38;5;28mself\u001b[39m\u001b[38;5;241m.\u001b[39m_getitem_multilevel(key)\n\u001b[0;32m-> 3807\u001b[0m indexer \u001b[38;5;241m=\u001b[39m \u001b[38;5;28;43mself\u001b[39;49m\u001b[38;5;241;43m.\u001b[39;49m\u001b[43mcolumns\u001b[49m\u001b[38;5;241;43m.\u001b[39;49m\u001b[43mget_loc\u001b[49m\u001b[43m(\u001b[49m\u001b[43mkey\u001b[49m\u001b[43m)\u001b[49m\n\u001b[1;32m   3808\u001b[0m \u001b[38;5;28;01mif\u001b[39;00m is_integer(indexer):\n\u001b[1;32m   3809\u001b[0m     indexer \u001b[38;5;241m=\u001b[39m [indexer]\n",
      "File \u001b[0;32m~/miniconda3/envs/scvelo/lib/python3.10/site-packages/pandas/core/indexes/base.py:3804\u001b[0m, in \u001b[0;36mIndex.get_loc\u001b[0;34m(self, key, method, tolerance)\u001b[0m\n\u001b[1;32m   3802\u001b[0m     \u001b[38;5;28;01mreturn\u001b[39;00m \u001b[38;5;28mself\u001b[39m\u001b[38;5;241m.\u001b[39m_engine\u001b[38;5;241m.\u001b[39mget_loc(casted_key)\n\u001b[1;32m   3803\u001b[0m \u001b[38;5;28;01mexcept\u001b[39;00m \u001b[38;5;167;01mKeyError\u001b[39;00m \u001b[38;5;28;01mas\u001b[39;00m err:\n\u001b[0;32m-> 3804\u001b[0m     \u001b[38;5;28;01mraise\u001b[39;00m \u001b[38;5;167;01mKeyError\u001b[39;00m(key) \u001b[38;5;28;01mfrom\u001b[39;00m \u001b[38;5;21;01merr\u001b[39;00m\n\u001b[1;32m   3805\u001b[0m \u001b[38;5;28;01mexcept\u001b[39;00m \u001b[38;5;167;01mTypeError\u001b[39;00m:\n\u001b[1;32m   3806\u001b[0m     \u001b[38;5;66;03m# If we have a listlike key, _check_indexing_error will raise\u001b[39;00m\n\u001b[1;32m   3807\u001b[0m     \u001b[38;5;66;03m#  InvalidIndexError. Otherwise we fall through and re-raise\u001b[39;00m\n\u001b[1;32m   3808\u001b[0m     \u001b[38;5;66;03m#  the TypeError.\u001b[39;00m\n\u001b[1;32m   3809\u001b[0m     \u001b[38;5;28mself\u001b[39m\u001b[38;5;241m.\u001b[39m_check_indexing_error(key)\n",
      "\u001b[0;31mKeyError\u001b[0m: 'UMAP_3'"
     ]
    },
    {
     "name": "stderr",
     "output_type": "stream",
     "text": [
      "/efs/users/bendall/miniconda3/envs/scvelo/lib/python3.10/site-packages/debugpy/_vendored/pydevd/_pydevd_bundle/pydevd_resolver.py:189: DeprecationWarning: Use is_view instead of isview, isview will be removed in the future.\n",
      "  attr = getattr(var, name)\n"
     ]
    }
   ],
   "source": [
    "# set pca and umap\n",
    "adata.obsm['X_pca'] = pca.to_numpy()\n",
    "adata.obsm['X_umap'] = np.vstack((adata.obs['UMAP_1'].to_numpy(), adata.obs['UMAP_2'].to_numpy(), adata.obs['UMAP_3'].to_numpy())).T"
   ]
  },
  {
   "cell_type": "code",
   "execution_count": null,
   "id": "28de49fa-5091-4bf8-b334-ed615b464ca9",
   "metadata": {},
   "outputs": [],
   "source": []
  }
 ],
 "metadata": {
  "kernelspec": {
   "display_name": "Python [conda env:scvelo]",
   "language": "python",
   "name": "conda-env-scvelo-xpython"
  },
  "language_info": {
   "file_extension": ".py",
   "mimetype": "text/x-python",
   "name": "python",
   "version": "3.10.10"
  }
 },
 "nbformat": 4,
 "nbformat_minor": 5
}
